{
 "cells": [
  {
   "cell_type": "markdown",
   "metadata": {},
   "source": [
    "# Convolutional Neural Networks\n",
    "\n",
    "- CNNs are powerful artificial neural network technique\n",
    "- preserve spatial structure of object\n",
    "- helps detecting objects\n",
    "- Convolutional Neural Networks = ConvNets = CNNs\n",
    "- Convolutional Neural Networks has 3 types of layers\n",
    "  - Convolutional layers\n",
    "  - Pooling layers\n",
    "  - Fully connected layers\n",
    "    \n",
    "Convolutional Layers:\n",
    "- Helps finding structure\n",
    "- uses filters to \n",
    "\n",
    "Example,\n",
    "Line detecting kernels:\n",
    "<img src='Data/LineDetectingKernels.png' width=250/>    \n",
    "<img src='Data/HorzLineDetection.png' width=600/>\n",
    "<img src='Data/EdgeDetection.png' widhth=400/>\n",
    "\n",
    "<a href='https://aishack.in/tutorials/image-convolution-examples'>Image Convolution Examples</a>\n",
    "\n",
    "Pooling Layers:\n",
    "- Helps reduce or downsize previous layer\n",
    "- Helps to compress, generalize\n",
    "- Helps reduce overfit\n",
    "- Apply max or average of matrix values\n",
    "\n",
    "Fully Conncted Layers\n",
    "- Helps aggregate"
   ]
  },
  {
   "cell_type": "markdown",
   "metadata": {},
   "source": [
    "__Best Practices__:\n",
    "- __Input Receptive Field Dimensions__: The default is 2D for images, but could be 1D such as for words in a sentence or 3D for video that adds a time dimension.\n",
    "- __Receptive Field Size__: The patch should be as small as possible, but large enough to see features in the input data. It is common to use 3 x 3 on small images and 5 x 5 or 7 x 7 and more on larger image sizes.\n",
    "- __Stride Width__: Use the default stride of 1. It is easy to understand and you don't need padding to handle the receptive field falling off the edge of your images. This could be increased to 2 or larger for larger images.\n",
    "- __Number of Filters__: Filters are the feature detectors. Generally fewer filters are used at the input layer and increasingly more filters used at deeper layers.\n",
    "- __Padding__: Set to zero and called zero padding when reading non-input data. This is useful when you cannot or do not want to standardize input image sizes or when you want to use receptive field and stride sizes that do not neatly divide up the input image size.\n",
    "- __Pooling__: Pooling is a destructive or generalization process to reduce overfitting. Receptive field size is almost always set to 2 x 2 with a stride of 2 to discard 75% of the activations from the output of the previous layer.\n",
    "- __Data Preparation__: Consider standardizing input data, both the dimensions of the images and pixel values.\n",
    "- __Pattern Architecture__: It is common to pattern the layers in your network architecture. This might be one, two or some number of convolutional layers followed by a pooling layer. This structure can then be repeated one or more times. Finally, fully connected layers are often only used at the output end and may be stacked one, two or more deep.\n",
    "- __Dropout__: CNNs have a habit of overfitting, even with pooling layers. Dropout should be used such as between fully connected layers and perhaps after pooling layers."
   ]
  }
 ],
 "metadata": {
  "kernelspec": {
   "display_name": "Python 3.7 (tensorflow)",
   "language": "python",
   "name": "tensorflow"
  },
  "language_info": {
   "codemirror_mode": {
    "name": "ipython",
    "version": 3
   },
   "file_extension": ".py",
   "mimetype": "text/x-python",
   "name": "python",
   "nbconvert_exporter": "python",
   "pygments_lexer": "ipython3",
   "version": "3.7.7"
  }
 },
 "nbformat": 4,
 "nbformat_minor": 4
}
