{
  "nbformat": 4,
  "nbformat_minor": 0,
  "metadata": {
    "colab": {
      "name": "TemperatureConversion.ipynb",
      "provenance": [],
      "collapsed_sections": [],
      "include_colab_link": true
    },
    "kernelspec": {
      "name": "python3",
      "display_name": "Python 3"
    }
  },
  "cells": [
    {
      "cell_type": "markdown",
      "metadata": {
        "id": "view-in-github",
        "colab_type": "text"
      },
      "source": [
        "<a href=\"https://colab.research.google.com/github/elikapati/DeepLearning/blob/master/TemperatureConversion.ipynb\" target=\"_parent\"><img src=\"https://colab.research.google.com/assets/colab-badge.svg\" alt=\"Open In Colab\"/></a>"
      ]
    },
    {
      "cell_type": "markdown",
      "metadata": {
        "id": "K0ngCtN1wNRk",
        "colab_type": "text"
      },
      "source": [
        "# Temperature conversion"
      ]
    },
    {
      "cell_type": "markdown",
      "metadata": {
        "id": "98cqfautwTiJ",
        "colab_type": "text"
      },
      "source": [
        "Temperature conversion from Farenheit to Celsius:<br>\n",
        "f = c * 1.8 + 32"
      ]
    },
    {
      "cell_type": "code",
      "metadata": {
        "id": "WpVLsDgYwKTY",
        "colab_type": "code",
        "colab": {}
      },
      "source": [
        "import tensorflow as tf\n",
        "import numpy as np"
      ],
      "execution_count": 0,
      "outputs": []
    },
    {
      "cell_type": "code",
      "metadata": {
        "id": "V1r9rHviwbEN",
        "colab_type": "code",
        "outputId": "15be94e6-fe13-4443-da3c-4fc72ac6fdd1",
        "colab": {
          "base_uri": "https://localhost:8080/",
          "height": 140
        }
      },
      "source": [
        "celsius_q = np.array([-40, -10, 0, 8, 15, 22, 38], dtype=float)\n",
        "farenhiet_a = np.array([-40, 14, 32, 46, 59, 72, 100], dtype=float)\n",
        "\n",
        "for i, c in enumerate(celsius_q):\n",
        "  print(\"{} degrees Celsius = {} degrees Farenheit\".format(c, farenhiet_a[i]))"
      ],
      "execution_count": 0,
      "outputs": [
        {
          "output_type": "stream",
          "text": [
            "-40.0 degrees Celsius = -40.0 degrees Farenheit\n",
            "-10.0 degrees Celsius = 14.0 degrees Farenheit\n",
            "0.0 degrees Celsius = 32.0 degrees Farenheit\n",
            "8.0 degrees Celsius = 46.0 degrees Farenheit\n",
            "15.0 degrees Celsius = 59.0 degrees Farenheit\n",
            "22.0 degrees Celsius = 72.0 degrees Farenheit\n",
            "38.0 degrees Celsius = 100.0 degrees Farenheit\n"
          ],
          "name": "stdout"
        }
      ]
    },
    {
      "cell_type": "markdown",
      "metadata": {
        "id": "2Ivet2gq1Pst",
        "colab_type": "text"
      },
      "source": [
        "## Perceptron (Single Layer)"
      ]
    },
    {
      "cell_type": "code",
      "metadata": {
        "id": "W_8kTbkE1GiO",
        "colab_type": "code",
        "colab": {}
      },
      "source": [
        "l0 = tf.keras.layers.Dense(units=1, input_shape=[1])\n",
        "model = tf.keras.Sequential(l0)"
      ],
      "execution_count": 0,
      "outputs": []
    },
    {
      "cell_type": "code",
      "metadata": {
        "id": "-_BILKOzwepN",
        "colab_type": "code",
        "outputId": "fd72147d-4e3c-4730-8b31-f23d6feef472",
        "colab": {
          "base_uri": "https://localhost:8080/",
          "height": 34
        }
      },
      "source": [
        "model = tf.keras.Sequential([\n",
        "            tf.keras.layers.Dense(units=1, input_shape=[1])\n",
        "])\n",
        "\n",
        "model.compile(loss='mean_squared_error', optimizer=tf.keras.optimizers.Adam(0.1))\n",
        "\n",
        "history = model.fit(celcius_q, farenhiet_a, epochs=500, verbose=False)\n",
        "print('Finished training the model')"
      ],
      "execution_count": 0,
      "outputs": [
        {
          "output_type": "stream",
          "text": [
            "Finished training the model\n"
          ],
          "name": "stdout"
        }
      ]
    },
    {
      "cell_type": "markdown",
      "metadata": {
        "id": "QdAww1_Ez-wN",
        "colab_type": "text"
      },
      "source": [
        "## Display training statistics"
      ]
    },
    {
      "cell_type": "code",
      "metadata": {
        "id": "4427gA-kyklx",
        "colab_type": "code",
        "outputId": "356bf979-0066-4756-c3c7-591fc3611faa",
        "colab": {
          "base_uri": "https://localhost:8080/",
          "height": 297
        }
      },
      "source": [
        "import matplotlib.pyplot as plt\n",
        "\n",
        "plt.xlabel('Epoch Number')\n",
        "plt.ylabel('Loss Magnitude')\n",
        "plt.plot(history.history['loss'])"
      ],
      "execution_count": 0,
      "outputs": [
        {
          "output_type": "execute_result",
          "data": {
            "text/plain": [
              "[<matplotlib.lines.Line2D at 0x7f7968084da0>]"
            ]
          },
          "metadata": {
            "tags": []
          },
          "execution_count": 90
        },
        {
          "output_type": "display_data",
          "data": {
            "image/png": "[encoded data removed]",
            "text/plain": [
              "<Figure size 432x288 with 1 Axes>"
            ]
          },
          "metadata": {
            "tags": []
          }
        }
      ]
    },
    {
      "cell_type": "code",
      "metadata": {
        "id": "tuO1qX240Wfi",
        "colab_type": "code",
        "outputId": "192cc979-7917-4272-ce6a-e3f1395afb2e",
        "colab": {
          "base_uri": "https://localhost:8080/",
          "height": 34
        }
      },
      "source": [
        "# Predict\n",
        "print(\"{} oC = {} oF\".format(100.0, model.predict([100.0])))"
      ],
      "execution_count": 0,
      "outputs": [
        {
          "output_type": "stream",
          "text": [
            "100.0 oC = [[211.29898]] oF\n"
          ],
          "name": "stdout"
        }
      ]
    },
    {
      "cell_type": "code",
      "metadata": {
        "id": "Ce902gK70fIg",
        "colab_type": "code",
        "outputId": "9289ed55-a702-456c-9b86-06dcffb1e68a",
        "colab": {
          "base_uri": "https://localhost:8080/",
          "height": 52
        }
      },
      "source": [
        "# Layer weights\n",
        "print(\"These are the layer variables:\\n{}\".format(l0.get_weights()))"
      ],
      "execution_count": 0,
      "outputs": [
        {
          "output_type": "stream",
          "text": [
            "These are the layer variables:\n",
            "[array([[-1.1447679]], dtype=float32), array([0.], dtype=float32)]\n"
          ],
          "name": "stdout"
        }
      ]
    },
    {
      "cell_type": "markdown",
      "metadata": {
        "id": "zAQX-Qkg1Wct",
        "colab_type": "text"
      },
      "source": [
        "## Multi-layer"
      ]
    },
    {
      "cell_type": "code",
      "metadata": {
        "id": "rO-7nkt-1YmU",
        "colab_type": "code",
        "outputId": "da02f25a-300d-4995-d0bd-9d398a98d66d",
        "colab": {
          "base_uri": "https://localhost:8080/",
          "height": 351
        }
      },
      "source": [
        "# Layers\n",
        "l0 = tf.keras.layers.Dense(units=4, input_shape=[1])\n",
        "l1 = tf.keras.layers.Dense(units=4)\n",
        "l2 = tf.keras.layers.Dense(units=1)\n",
        "\n",
        "# Train model\n",
        "model = tf.keras.Sequential([l0, l1, l2])\n",
        "model.compile(loss='mean_squared_error', optimizer=tf.keras.optimizers.Adam(0.1))\n",
        "model.fit(celcius_q, farenhiet_a, epochs=500, verbose=False)\n",
        "print('Finished training the model')\n",
        "\n",
        "# Predict\n",
        "print(\"{} degrees Celsius = {} degrees Farenheit\".format(100.0, model.predict([100.0])))\n",
        "\n",
        "# Show weights\n",
        "print(\"\\nThese are the l0 variables:\\n\", l0.get_weights())\n",
        "print(\"\\nThese are the l1 variables:\\n\", l1.get_weights())\n",
        "print(\"\\nThese are the l2 variables:\\n\", l2.get_weights())"
      ],
      "execution_count": 0,
      "outputs": [
        {
          "output_type": "stream",
          "text": [
            "Finished training the model\n",
            "100.0 degrees Celsius = [[211.74744]] degrees Farenheit\n",
            "\n",
            "These are the l0 variables:\n",
            " [array([[-0.4833677 , -0.19835488,  0.19633622,  0.2061182 ]],\n",
            "      dtype=float32), array([-3.243307 , -3.1347444,  2.5176554,  3.1800308], dtype=float32)]\n",
            "\n",
            "These are the l1 variables:\n",
            " [array([[ 0.35610744,  0.7953711 , -0.21944274,  0.96710986],\n",
            "       [ 0.04662782,  0.96508974, -0.28260443, -0.00845765],\n",
            "       [-0.769035  ,  0.49904776, -0.73893875, -0.6652221 ],\n",
            "       [-0.55332917, -1.083092  ,  0.21501088, -0.5902438 ]],\n",
            "      dtype=float32), array([-3.1926682, -3.161739 , -2.450795 , -3.284058 ], dtype=float32)]\n",
            "\n",
            "These are the l2 variables:\n",
            " [array([[-0.99344933],\n",
            "       [-1.3415866 ],\n",
            "       [-0.08150955],\n",
            "       [-0.5832393 ]], dtype=float32), array([3.1538358], dtype=float32)]\n"
          ],
          "name": "stdout"
        }
      ]
    }
  ]
}
